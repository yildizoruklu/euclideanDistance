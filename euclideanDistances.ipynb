{
 "cells": [
  {
   "cell_type": "code",
   "execution_count": 1,
   "id": "4ec741f3",
   "metadata": {},
   "outputs": [],
   "source": [
    "import math\n",
    "def euclideandDistance(point1, point2):\n",
    "    \"\"\"\n",
    "    İki nokta arasındaki Öklid mesafesini hesaplar.\n",
    "    :param point1: İlk nokta (x1, y1)\n",
    "    :param point2: İkinci nokta (x2, y2)\n",
    "    :return: Öklid mesafesi\n",
    "    \"\"\"\n",
    "    x1, y1 = point1\n",
    "    x2, y2 = point2\n",
    "    return math.sqrt((x2 - x1) ** 2 + (y2 - y1) ** 2)\n"
   ]
  },
  {
   "cell_type": "code",
   "execution_count": null,
   "id": "404baadb",
   "metadata": {},
   "outputs": [],
   "source": [
    "# 'points' adında bir liste oluşturun (örneğin [(x1, y1), (x2, y2), ...])"
   ]
  },
  {
   "cell_type": "code",
   "execution_count": null,
   "id": "d569b1d8",
   "metadata": {},
   "outputs": [],
   "source": [
    "points = [(3, 4), (5, 9)]"
   ]
  },
  {
   "cell_type": "code",
   "execution_count": null,
   "id": "df338cd8",
   "metadata": {},
   "outputs": [],
   "source": [
    "# Her nokta çifti arasındaki Öklid mesafesini hesaplama ve 'distances' listesine ekle"
   ]
  },
  {
   "cell_type": "code",
   "execution_count": 3,
   "id": "e97c060c",
   "metadata": {},
   "outputs": [],
   "source": [
    "distances = []"
   ]
  },
  {
   "cell_type": "code",
   "execution_count": 2,
   "id": "15bf68f7",
   "metadata": {},
   "outputs": [
    {
     "name": "stdout",
     "output_type": "stream",
     "text": [
      "Öklid mesafeleri: [5.385164807134504]\n"
     ]
    }
   ],
   "source": [
    "for i in range(len(points) - 1):\n",
    "    for j in range(i + 1, len(points)):\n",
    "        distance = euclideandDistance(points[i], points[j])\n",
    "        distances.append(distance)\n",
    "\n",
    "print(\"Öklid mesafeleri:\", distances)"
   ]
  },
  {
   "cell_type": "code",
   "execution_count": null,
   "id": "2f62a85a",
   "metadata": {},
   "outputs": [],
   "source": []
  }
 ],
 "metadata": {
  "kernelspec": {
   "display_name": "Python 3 (ipykernel)",
   "language": "python",
   "name": "python3"
  },
  "language_info": {
   "codemirror_mode": {
    "name": "ipython",
    "version": 3
   },
   "file_extension": ".py",
   "mimetype": "text/x-python",
   "name": "python",
   "nbconvert_exporter": "python",
   "pygments_lexer": "ipython3",
   "version": "3.11.3"
  }
 },
 "nbformat": 4,
 "nbformat_minor": 5
}
